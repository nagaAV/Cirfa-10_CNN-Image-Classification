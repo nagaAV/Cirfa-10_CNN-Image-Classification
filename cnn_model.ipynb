{
 "cells": [
  {
   "cell_type": "markdown",
   "metadata": {},
   "source": [
    "# 10 class classification model"
   ]
  },
  {
   "cell_type": "markdown",
   "metadata": {},
   "source": [
    "### Load the data and libraries"
   ]
  },
  {
   "cell_type": "code",
   "execution_count": 1,
   "metadata": {},
   "outputs": [
    {
     "name": "stderr",
     "output_type": "stream",
     "text": [
      "Using TensorFlow backend.\n"
     ]
    }
   ],
   "source": [
    "import warnings\n",
    "warnings.filterwarnings('ignore')\n",
    "\n",
    "import os\n",
    "import cv2\n",
    "import numpy as np\n",
    "import matplotlib.pyplot as plt\n",
    "get_ipython().run_line_magic('matplotlib', 'inline')\n",
    "\n",
    "from keras.models import Sequential\n",
    "from keras.layers import Conv2D \n",
    "from keras.layers import MaxPooling2D\n",
    "from keras.layers import Flatten\n",
    "from keras.layers import Dense\n",
    "from keras.layers import Dropout, Activation\n",
    "from keras.optimizers import adam\n",
    "from keras.utils import np_utils\n",
    "\n",
    "from PIL import Image\n",
    "from numpy import *\n",
    "\n",
    "# Sklearn\n",
    "from sklearn.utils import shuffle\n",
    "from sklearn.model_selection import train_test_split\n",
    "\n"
   ]
  },
  {
   "cell_type": "code",
   "execution_count": 2,
   "metadata": {},
   "outputs": [],
   "source": [
    "datadir = \"E:/INSOFE CLASS NOTES/cute_04/CNN_image classif/10_categories\"\n",
    "\n",
    "categories = ['airplanes', 'BACKGROUND_Google', 'bonsai', 'car_side', 'Faces',\n",
    "             'Faces_easy', 'grand_piano', 'Leopards', 'Motorbikes', 'watch']"
   ]
  },
  {
   "cell_type": "code",
   "execution_count": 3,
   "metadata": {},
   "outputs": [],
   "source": [
    "img_size = 50"
   ]
  },
  {
   "cell_type": "code",
   "execution_count": 4,
   "metadata": {},
   "outputs": [],
   "source": [
    "training_data=[]\n",
    "\n",
    "def prep_training_data():\n",
    "    for category in categories:\n",
    "        path = os.path.join(datadir, category)\n",
    "        class_num = categories.index(category)\n",
    "        for img in os.listdir(path):\n",
    "            try:\n",
    "                img_array = cv2.imread(os.path.join(path,img), cv2.IMREAD_GRAYSCALE)\n",
    "                new_array = cv2.resize(img_array, (img_size,img_size))\n",
    "                training_data.append([new_array, class_num])\n",
    "            except Exception as e:\n",
    "                pass\n",
    "            \n",
    "prep_training_data()        "
   ]
  },
  {
   "cell_type": "code",
   "execution_count": 5,
   "metadata": {},
   "outputs": [
    {
     "name": "stdout",
     "output_type": "stream",
     "text": [
      "3725\n"
     ]
    }
   ],
   "source": [
    "print(len(training_data))"
   ]
  },
  {
   "cell_type": "code",
   "execution_count": 6,
   "metadata": {},
   "outputs": [],
   "source": [
    "import random\n",
    "\n",
    "random.shuffle(training_data)"
   ]
  },
  {
   "cell_type": "code",
   "execution_count": 7,
   "metadata": {},
   "outputs": [
    {
     "name": "stdout",
     "output_type": "stream",
     "text": [
      "4\n",
      "4\n",
      "8\n",
      "3\n",
      "8\n",
      "8\n",
      "0\n",
      "4\n",
      "1\n",
      "8\n"
     ]
    }
   ],
   "source": [
    "for sample in training_data[:10]:\n",
    "    print(sample[1])"
   ]
  },
  {
   "cell_type": "code",
   "execution_count": 8,
   "metadata": {},
   "outputs": [],
   "source": [
    "x = []\n",
    "y = []"
   ]
  },
  {
   "cell_type": "code",
   "execution_count": 9,
   "metadata": {},
   "outputs": [],
   "source": [
    "for features, label in training_data:\n",
    "    x.append(features)\n",
    "    y.append(label)\n",
    "\n",
    "x = np.array(x).reshape(-1,img_size, img_size, 1)"
   ]
  },
  {
   "cell_type": "code",
   "execution_count": 10,
   "metadata": {},
   "outputs": [
    {
     "data": {
      "text/plain": [
       "(50, 50, 1)"
      ]
     },
     "execution_count": 10,
     "metadata": {},
     "output_type": "execute_result"
    }
   ],
   "source": [
    "x.shape[1:]"
   ]
  },
  {
   "cell_type": "code",
   "execution_count": 11,
   "metadata": {},
   "outputs": [],
   "source": [
    "# scaling the data\n",
    "x = x/255.0"
   ]
  },
  {
   "cell_type": "markdown",
   "metadata": {},
   "source": [
    "## Basic CNN-model building"
   ]
  },
  {
   "cell_type": "code",
   "execution_count": 12,
   "metadata": {},
   "outputs": [],
   "source": [
    "# seq model\n",
    "model = Sequential()"
   ]
  },
  {
   "cell_type": "code",
   "execution_count": 13,
   "metadata": {},
   "outputs": [],
   "source": [
    "# one conv lay and one max pooling\n",
    "model.add(Conv2D(64, (3,3), input_shape = x.shape[1:], padding='same'))\n",
    "model.add(Activation('relu'))\n",
    "model.add(MaxPooling2D(pool_size = (2,2)))\n",
    "\n",
    "\n",
    "# one conv lay and one max pooling\n",
    "model.add(Conv2D(64, (3,3)))\n",
    "model.add(Activation('relu'))\n",
    "model.add(MaxPooling2D(pool_size = (2,2)))\n",
    "\n",
    "\n",
    "model.add(Flatten())\n",
    "model.add(Dense(128))\n",
    "model.add(Activation(\"relu\"))\n",
    "model.add(Dropout(0.5))\n",
    "\n",
    "model.add(Dense(10))\n",
    "model.add(Activation('sigmoid'))"
   ]
  },
  {
   "cell_type": "code",
   "execution_count": 16,
   "metadata": {},
   "outputs": [],
   "source": [
    "model.compile(loss='sparse_categorical_crossentropy', optimizer = 'adam', metrics=['accuracy'])"
   ]
  },
  {
   "cell_type": "code",
   "execution_count": 17,
   "metadata": {},
   "outputs": [
    {
     "name": "stdout",
     "output_type": "stream",
     "text": [
      "Train on 2793 samples, validate on 932 samples\n",
      "Epoch 1/10\n",
      "2793/2793 [==============================] - 10s 4ms/step - loss: 1.8297 - acc: 0.4032 - val_loss: 1.0015 - val_acc: 0.7446\n",
      "Epoch 2/10\n",
      "2793/2793 [==============================] - 3s 938us/step - loss: 1.0631 - acc: 0.6584 - val_loss: 0.7374 - val_acc: 0.7371\n",
      "Epoch 3/10\n",
      "2793/2793 [==============================] - 3s 948us/step - loss: 0.7205 - acc: 0.7719 - val_loss: 0.4034 - val_acc: 0.8830\n",
      "Epoch 4/10\n",
      "2793/2793 [==============================] - 3s 954us/step - loss: 0.5684 - acc: 0.8174 - val_loss: 0.3896 - val_acc: 0.8788\n",
      "Epoch 5/10\n",
      "2793/2793 [==============================] - 3s 984us/step - loss: 0.4492 - acc: 0.8468 - val_loss: 0.3093 - val_acc: 0.8991\n",
      "Epoch 6/10\n",
      "2793/2793 [==============================] - 3s 994us/step - loss: 0.3823 - acc: 0.8768 - val_loss: 0.3068 - val_acc: 0.8970\n",
      "Epoch 7/10\n",
      "2793/2793 [==============================] - 3s 984us/step - loss: 0.3588 - acc: 0.8779 - val_loss: 0.3030 - val_acc: 0.9024\n",
      "Epoch 8/10\n",
      "2793/2793 [==============================] - 3s 960us/step - loss: 0.2856 - acc: 0.9040 - val_loss: 0.2802 - val_acc: 0.9206\n",
      "Epoch 9/10\n",
      "2793/2793 [==============================] - 3s 965us/step - loss: 0.2502 - acc: 0.9134 - val_loss: 0.2919 - val_acc: 0.9109\n",
      "Epoch 10/10\n",
      "2793/2793 [==============================] - 3s 970us/step - loss: 0.2209 - acc: 0.9241 - val_loss: 0.2678 - val_acc: 0.9217\n"
     ]
    }
   ],
   "source": [
    "history = model.fit(x,y, batch_size = 32, epochs=10, validation_split = 0.25)"
   ]
  },
  {
   "cell_type": "markdown",
   "metadata": {},
   "source": [
    "## visualing the accuracy and loss with train and validation"
   ]
  },
  {
   "cell_type": "code",
   "execution_count": 18,
   "metadata": {},
   "outputs": [
    {
     "data": {
      "image/png": "[encoded data removed]",
      "text/plain": [
       "<Figure size 864x288 with 2 Axes>"
      ]
     },
     "metadata": {
      "needs_background": "light"
     },
     "output_type": "display_data"
    }
   ],
   "source": [
    "f, (ax1, ax2) = plt.subplots(1, 2, figsize=(12, 4))\n",
    "t = f.suptitle('Deep Neural Network Performance', fontsize=12)\n",
    "f.subplots_adjust(top=0.85, wspace=0.3)\n",
    "\n",
    "epoch_list = list(range(1,11))\n",
    "ax1.plot(epoch_list, history.history['acc'], label='Train Accuracy')\n",
    "ax1.plot(epoch_list, history.history['val_acc'], label='Validation Accuracy')\n",
    "ax1.set_xticks(np.arange(0, 11, 1))\n",
    "ax1.set_ylabel('Accuracy Value')\n",
    "ax1.set_xlabel('Epoch')\n",
    "ax1.set_title('Accuracy')\n",
    "l1 = ax1.legend(loc=\"best\")\n",
    "\n",
    "ax2.plot(epoch_list, history.history['loss'], label='Train Loss')\n",
    "ax2.plot(epoch_list, history.history['val_loss'], label='Validation Loss')\n",
    "ax2.set_xticks(np.arange(0, 11, 1))\n",
    "ax2.set_ylabel('Loss Value')\n",
    "ax2.set_xlabel('Epoch')\n",
    "ax2.set_title('Loss')\n",
    "l2 = ax2.legend(loc=\"best\")"
   ]
  },
  {
   "cell_type": "markdown",
   "metadata": {},
   "source": [
    "## tunning the model"
   ]
  },
  {
   "cell_type": "code",
   "execution_count": 19,
   "metadata": {},
   "outputs": [],
   "source": [
    "# seq model\n",
    "model = Sequential()\n",
    "\n",
    "# two conv lay and one max pooling\n",
    "model.add(Conv2D(64, (3,3), input_shape = x.shape[1:], padding='same'))\n",
    "model.add(Activation('relu'))\n",
    "model.add(Conv2D(64,(3,3)))\n",
    "model.add(Activation(\"relu\"))  \n",
    "model.add(MaxPooling2D(pool_size = (2,2)))\n",
    "\n",
    "# two conv lay and one max pooling\n",
    "model.add(Conv2D(128, (3,3), padding='same'))\n",
    "model.add(Activation('relu'))\n",
    "model.add(Conv2D(128,(3,3)))\n",
    "model.add(Activation(\"relu\"))  \n",
    "model.add(MaxPooling2D(pool_size = (2,2)))\n",
    "\n",
    "model.add(Flatten())\n",
    "model.add(Dense(1024))\n",
    "model.add(Activation(\"relu\"))\n",
    "model.add(Dropout(0.5))\n",
    "\n",
    "model.add(Dense(10))\n",
    "model.add(Activation('sigmoid'))"
   ]
  },
  {
   "cell_type": "code",
   "execution_count": 20,
   "metadata": {},
   "outputs": [],
   "source": [
    "model.compile(loss ='sparse_categorical_crossentropy',\n",
    "              metrics = ['accuracy'],optimizer = 'adam')\n"
   ]
  },
  {
   "cell_type": "code",
   "execution_count": 21,
   "metadata": {},
   "outputs": [
    {
     "name": "stdout",
     "output_type": "stream",
     "text": [
      "Train on 2793 samples, validate on 932 samples\n",
      "Epoch 1/10\n",
      "2793/2793 [==============================] - 28s 10ms/step - loss: 1.6280 - acc: 0.3802 - val_loss: 0.8237 - val_acc: 0.7221\n",
      "Epoch 2/10\n",
      "2793/2793 [==============================] - 25s 9ms/step - loss: 0.6166 - acc: 0.8031 - val_loss: 0.4542 - val_acc: 0.8594\n",
      "Epoch 3/10\n",
      "2793/2793 [==============================] - 25s 9ms/step - loss: 0.3316 - acc: 0.8883 - val_loss: 0.3648 - val_acc: 0.8820\n",
      "Epoch 4/10\n",
      "2793/2793 [==============================] - 25s 9ms/step - loss: 0.2283 - acc: 0.9202 - val_loss: 0.3834 - val_acc: 0.8938\n",
      "Epoch 5/10\n",
      "2793/2793 [==============================] - 25s 9ms/step - loss: 0.1617 - acc: 0.9413 - val_loss: 0.3503 - val_acc: 0.9013\n",
      "Epoch 6/10\n",
      "2793/2793 [==============================] - 25s 9ms/step - loss: 0.1245 - acc: 0.9563 - val_loss: 0.3162 - val_acc: 0.9227\n",
      "Epoch 7/10\n",
      "2793/2793 [==============================] - 26s 9ms/step - loss: 0.0714 - acc: 0.9796 - val_loss: 0.2993 - val_acc: 0.9217\n",
      "Epoch 8/10\n",
      "2793/2793 [==============================] - 25s 9ms/step - loss: 0.0902 - acc: 0.9653 - val_loss: 0.3451 - val_acc: 0.9163\n",
      "Epoch 9/10\n",
      "2793/2793 [==============================] - 25s 9ms/step - loss: 0.0560 - acc: 0.9814 - val_loss: 0.3311 - val_acc: 0.9292\n",
      "Epoch 10/10\n",
      "2793/2793 [==============================] - 25s 9ms/step - loss: 0.0425 - acc: 0.9846 - val_loss: 0.3087 - val_acc: 0.9206\n"
     ]
    }
   ],
   "source": [
    "history = model.fit(x,y, batch_size = 32, epochs=10, validation_split = 0.25)"
   ]
  },
  {
   "cell_type": "markdown",
   "metadata": {},
   "source": [
    "## visualing the accuracy and loss with train and validation"
   ]
  },
  {
   "cell_type": "code",
   "execution_count": 22,
   "metadata": {},
   "outputs": [
    {
     "data": {
      "image/png": "[encoded data removed]",
      "text/plain": [
       "<Figure size 864x288 with 2 Axes>"
      ]
     },
     "metadata": {
      "needs_background": "light"
     },
     "output_type": "display_data"
    }
   ],
   "source": [
    "f, (ax1, ax2) = plt.subplots(1, 2, figsize=(12, 4))\n",
    "t = f.suptitle('Deep Neural Network Performance', fontsize=12)\n",
    "f.subplots_adjust(top=0.85, wspace=0.3)\n",
    "\n",
    "epoch_list = list(range(1,11))\n",
    "ax1.plot(epoch_list, history.history['acc'], label='Train Accuracy')\n",
    "ax1.plot(epoch_list, history.history['val_acc'], label='Validation Accuracy')\n",
    "ax1.set_xticks(np.arange(0, 11, 1))\n",
    "ax1.set_ylabel('Accuracy Value')\n",
    "ax1.set_xlabel('Epoch')\n",
    "ax1.set_title('Accuracy')\n",
    "l1 = ax1.legend(loc=\"best\")\n",
    "\n",
    "ax2.plot(epoch_list, history.history['loss'], label='Train Loss')\n",
    "ax2.plot(epoch_list, history.history['val_loss'], label='Validation Loss')\n",
    "ax2.set_xticks(np.arange(0, 11, 1))\n",
    "ax2.set_ylabel('Loss Value')\n",
    "ax2.set_xlabel('Epoch')\n",
    "ax2.set_title('Loss')\n",
    "l2 = ax2.legend(loc=\"best\")"
   ]
  },
  {
   "cell_type": "markdown",
   "metadata": {},
   "source": [
    "## predicting the test data"
   ]
  },
  {
   "cell_type": "code",
   "execution_count": 32,
   "metadata": {},
   "outputs": [],
   "source": [
    "#load the test data\n",
    "datadir = \"E:/INSOFE CLASS NOTES/cute_04/CNN_image classif/10_categories\"\n",
    "categories = ['test_data']\n",
    "img_size = 50"
   ]
  },
  {
   "cell_type": "code",
   "execution_count": 33,
   "metadata": {},
   "outputs": [
    {
     "data": {
      "image/png": "[encoded data removed]",
      "text/plain": [
       "<Figure size 432x288 with 1 Axes>"
      ]
     },
     "metadata": {
      "needs_background": "light"
     },
     "output_type": "display_data"
    }
   ],
   "source": [
    "testing_data = []\n",
    "\n",
    "def testing_data_prep():\n",
    "    for cat in categories:\n",
    "        path = os.path.join(datadir,cat)\n",
    "        #class_num = categories.index(cat)\n",
    "        for img in os.listdir(path):\n",
    "            img_array = cv2.imread(os.path.join(path,img), cv2.IMREAD_COLOR)\n",
    "            new_image = cv2.resize(img_array,(50,50))\n",
    "            testing_data.append(new_image)\n",
    "            plt.imshow(new_image,cmap='gray')\n",
    "            plt.show()\n",
    "        \n",
    "testing_data_prep()"
   ]
  },
  {
   "cell_type": "code",
   "execution_count": 38,
   "metadata": {},
   "outputs": [],
   "source": [
    "test_X = np.array(testing_data).reshape(-1,50,50,1)"
   ]
  },
  {
   "cell_type": "code",
   "execution_count": 39,
   "metadata": {},
   "outputs": [
    {
     "data": {
      "text/plain": [
       "(3, 50, 50, 1)"
      ]
     },
     "execution_count": 39,
     "metadata": {},
     "output_type": "execute_result"
    }
   ],
   "source": [
    "test_X.shape"
   ]
  },
  {
   "cell_type": "code",
   "execution_count": 40,
   "metadata": {},
   "outputs": [],
   "source": [
    "test_X = test_X/255.0"
   ]
  },
  {
   "cell_type": "code",
   "execution_count": 41,
   "metadata": {},
   "outputs": [],
   "source": [
    "predictions = model.predict(test_X)"
   ]
  },
  {
   "cell_type": "code",
   "execution_count": 42,
   "metadata": {},
   "outputs": [
    {
     "data": {
      "text/plain": [
       "array([[2.05688934e-06, 3.87309283e-01, 2.89293751e-02, 7.14989596e-07,\n",
       "        2.75887737e-06, 1.35202242e-07, 7.44127647e-07, 2.69642328e-06,\n",
       "        1.15033423e-08, 1.72750231e-06],\n",
       "       [9.95210285e-05, 8.42626512e-01, 1.47661371e-02, 3.89079505e-05,\n",
       "        4.53154003e-04, 6.67129916e-06, 4.25149665e-05, 8.76144390e-04,\n",
       "        5.59601685e-05, 4.61956224e-05],\n",
       "       [2.83472291e-12, 9.23320532e-01, 1.29232944e-06, 4.46936307e-11,\n",
       "        1.29044565e-05, 1.79515486e-10, 1.62961584e-07, 7.22023386e-10,\n",
       "        2.48695248e-12, 2.63136626e-05]], dtype=float32)"
      ]
     },
     "execution_count": 42,
     "metadata": {},
     "output_type": "execute_result"
    }
   ],
   "source": [
    "#Final Predictions\n",
    "predictions"
   ]
  },
  {
   "cell_type": "code",
   "execution_count": 43,
   "metadata": {},
   "outputs": [
    {
     "data": {
      "text/plain": [
       "0.8426265"
      ]
     },
     "execution_count": 43,
     "metadata": {},
     "output_type": "execute_result"
    }
   ],
   "source": [
    "np.amax(predictions[1])"
   ]
  },
  {
   "cell_type": "markdown",
   "metadata": {},
   "source": [
    "## Pre-Trained Model - InCeptionv3"
   ]
  },
  {
   "cell_type": "code",
   "execution_count": 44,
   "metadata": {},
   "outputs": [],
   "source": [
    "# Get Inception architecture from keras.applications\n",
    "from keras.layers import Dense,GlobalAveragePooling2D\n",
    "from keras.applications import MobileNet\n",
    "from keras.preprocessing import image\n",
    "from keras.applications.mobilenet import preprocess_input\n",
    "from keras.preprocessing.image import ImageDataGenerator\n",
    "from keras.models import Model\n",
    "from keras.optimizers import Adam\n",
    "import os\n",
    "# Get Inception architecture from keras.applications\n",
    "from keras.applications.inception_v3 import InceptionV3"
   ]
  },
  {
   "cell_type": "code",
   "execution_count": 45,
   "metadata": {},
   "outputs": [],
   "source": [
    "datadir = 'E:/INSOFE CLASS NOTES/cute_04/CNN_image classif/10_categories'   # Path in which DataSet is placed in my local\n",
    "\n",
    "#Created a list of all the folders present in DataSet to iterate\n",
    "categories = ['airplanes','BACKGROUND_Google','bonsai','car_side',\n",
    "              'Faces','Faces_easy','grand_piano','Leopards','Motorbikes','watch']"
   ]
  },
  {
   "cell_type": "code",
   "execution_count": 46,
   "metadata": {},
   "outputs": [],
   "source": [
    "#Read Training Data with New Size\n",
    "training_data = []  # Created an empty list to read Training Data(Images)\n",
    "\n",
    "img_size = 100\n",
    "\n",
    "def training_data_prep():\n",
    "    for cat in categories:\n",
    "        path = os.path.join(datadir,cat)\n",
    "        class_num = categories.index(cat) #Provide Index to all the categories(0-9).Target Variable\n",
    "        for img in os.listdir(path):\n",
    "            try:\n",
    "                img_array = cv2.imread(os.path.join(path,img), cv2.IMREAD_COLOR) \n",
    "                new_image = cv2.resize(img_array,(img_size,img_size)) # Image Resize to 50 * 50\n",
    "                training_data.append([new_image,class_num])  # Append all the pics to a list with label\n",
    "            except Exception as e:\n",
    "                pass\n",
    "        \n",
    "training_data_prep()"
   ]
  },
  {
   "cell_type": "code",
   "execution_count": 47,
   "metadata": {},
   "outputs": [],
   "source": [
    "import random  # Library to shuffle the data as data is in sequence to avoid Overfitting"
   ]
  },
  {
   "cell_type": "code",
   "execution_count": 48,
   "metadata": {},
   "outputs": [],
   "source": [
    "random.shuffle(training_data) #Shffle Training data to avoid Overfitting"
   ]
  },
  {
   "cell_type": "code",
   "execution_count": 49,
   "metadata": {},
   "outputs": [],
   "source": [
    "X = []\n",
    "y = [] # Empty Feature and Label"
   ]
  },
  {
   "cell_type": "code",
   "execution_count": 50,
   "metadata": {},
   "outputs": [],
   "source": [
    "for features,labels in training_data:\n",
    "    X.append(features)\n",
    "    y.append(labels)        # Creating Feature and Label data "
   ]
  },
  {
   "cell_type": "code",
   "execution_count": 51,
   "metadata": {},
   "outputs": [],
   "source": [
    "img_size = 100\n",
    "X = np.array(X).reshape(-1,img_size,img_size,3)   # Reshaping Feature Data to 100 * 100 * 3"
   ]
  },
  {
   "cell_type": "code",
   "execution_count": 52,
   "metadata": {},
   "outputs": [],
   "source": [
    "#Model Building\n",
    "def inception_tl(nb_classes, freez_wts=False, learn_rate=0.0001):\n",
    "    trained_model = InceptionV3(include_top=False,weights='imagenet')\n",
    "    x = trained_model.output\n",
    "    x = GlobalAveragePooling2D()(x)\n",
    "    pred_inception= Dense(nb_classes,activation='softmax')(x)\n",
    "    model = Model(inputs=trained_model.input,outputs=pred_inception)\n",
    "    \n",
    "    for layer in trained_model.layers:\n",
    "        layer.trainable=(1-freez_wts)\n",
    "    \n",
    "    adam = Adam(lr= learn_rate)\n",
    "    model.compile(loss='sparse_categorical_crossentropy',metrics=['accuracy'],optimizer=adam)\n",
    "    \n",
    "    return(model)\n"
   ]
  },
  {
   "cell_type": "code",
   "execution_count": 53,
   "metadata": {},
   "outputs": [
    {
     "name": "stdout",
     "output_type": "stream",
     "text": [
      "Train on 3166 samples, validate on 559 samples\n",
      "Epoch 1/10\n",
      "3166/3166 [==============================] - 112s 35ms/step - loss: 1.1058 - acc: 0.6658 - val_loss: 0.5105 - val_acc: 0.8927\n",
      "Epoch 2/10\n",
      "3166/3166 [==============================] - 33s 10ms/step - loss: 0.2656 - acc: 0.9248 - val_loss: 0.2121 - val_acc: 0.9517\n",
      "Epoch 3/10\n",
      "3166/3166 [==============================] - 21s 7ms/step - loss: 0.1248 - acc: 0.9675 - val_loss: 0.1650 - val_acc: 0.9517\n",
      "Epoch 4/10\n",
      "3166/3166 [==============================] - 21s 7ms/step - loss: 0.0593 - acc: 0.9852 - val_loss: 0.1222 - val_acc: 0.9660\n",
      "Epoch 5/10\n",
      "3166/3166 [==============================] - 21s 7ms/step - loss: 0.0488 - acc: 0.9864 - val_loss: 0.1279 - val_acc: 0.9624\n",
      "Epoch 6/10\n",
      "3166/3166 [==============================] - 21s 7ms/step - loss: 0.0378 - acc: 0.9915 - val_loss: 0.1193 - val_acc: 0.9696\n",
      "Epoch 7/10\n",
      "3166/3166 [==============================] - 21s 7ms/step - loss: 0.0354 - acc: 0.9918 - val_loss: 0.1312 - val_acc: 0.9606\n",
      "Epoch 8/10\n",
      "3166/3166 [==============================] - 21s 7ms/step - loss: 0.0235 - acc: 0.9937 - val_loss: 0.0988 - val_acc: 0.9696\n",
      "Epoch 9/10\n",
      "3166/3166 [==============================] - 21s 7ms/step - loss: 0.0220 - acc: 0.9940 - val_loss: 0.0933 - val_acc: 0.9714\n",
      "Epoch 10/10\n",
      "3166/3166 [==============================] - 21s 7ms/step - loss: 0.0308 - acc: 0.9937 - val_loss: 0.0912 - val_acc: 0.9714\n"
     ]
    }
   ],
   "source": [
    "#Model Compiling\n",
    "model = inception_tl(nb_classes=10, freez_wts=False)\n",
    "history = model.fit(X,y,\n",
    "          validation_split = 0.15,\n",
    "          batch_size=32,\n",
    "          epochs=10)"
   ]
  },
  {
   "cell_type": "markdown",
   "metadata": {},
   "source": [
    "# visualing the accuracy and loss with train and validation"
   ]
  },
  {
   "cell_type": "code",
   "execution_count": 54,
   "metadata": {},
   "outputs": [
    {
     "data": {
      "image/png": "[encoded data removed]",
      "text/plain": [
       "<Figure size 864x288 with 2 Axes>"
      ]
     },
     "metadata": {
      "needs_background": "light"
     },
     "output_type": "display_data"
    }
   ],
   "source": [
    "f, (ax1, ax2) = plt.subplots(1, 2, figsize=(12, 4))\n",
    "t = f.suptitle('Deep Neural Network Performance', fontsize=12)\n",
    "f.subplots_adjust(top=0.85, wspace=0.3)\n",
    "\n",
    "epoch_list = list(range(1,11))\n",
    "ax1.plot(epoch_list, history.history['acc'], label='Train Accuracy')\n",
    "ax1.plot(epoch_list, history.history['val_acc'], label='Validation Accuracy')\n",
    "ax1.set_xticks(np.arange(0, 11, 1))\n",
    "ax1.set_ylabel('Accuracy Value')\n",
    "ax1.set_xlabel('Epoch')\n",
    "ax1.set_title('Accuracy')\n",
    "l1 = ax1.legend(loc=\"best\")\n",
    "\n",
    "ax2.plot(epoch_list, history.history['loss'], label='Train Loss')\n",
    "ax2.plot(epoch_list, history.history['val_loss'], label='Validation Loss')\n",
    "ax2.set_xticks(np.arange(0, 11, 1))\n",
    "ax2.set_ylabel('Loss Value')\n",
    "ax2.set_xlabel('Epoch')\n",
    "ax2.set_title('Loss')\n",
    "l2 = ax2.legend(loc=\"best\")"
   ]
  },
  {
   "cell_type": "markdown",
   "metadata": {},
   "source": [
    "#### BY pre-trained model of Inceptionv3 got a very good Accuracy of 99.3% thus shows the power of transfer learning techniques."
   ]
  },
  {
   "cell_type": "code",
   "execution_count": null,
   "metadata": {},
   "outputs": [],
   "source": []
  }
 ],
 "metadata": {
  "kernelspec": {
   "display_name": "Ai-tensoflow-gpu",
   "language": "python",
   "name": "aienv"
  },
  "language_info": {
   "codemirror_mode": {
    "name": "ipython",
    "version": 3
   },
   "file_extension": ".py",
   "mimetype": "text/x-python",
   "name": "python",
   "nbconvert_exporter": "python",
   "pygments_lexer": "ipython3",
   "version": "3.6.8"
  }
 },
 "nbformat": 4,
 "nbformat_minor": 2
}
